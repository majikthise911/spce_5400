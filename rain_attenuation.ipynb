{
 "cells": [
  {
   "cell_type": "code",
   "execution_count": 1,
   "id": "6d5cb268",
   "metadata": {},
   "outputs": [
    {
     "name": "stdout",
     "output_type": "stream",
     "text": [
      "Libraries loaded successfully!\n"
     ]
    }
   ],
   "source": [
    "# Cell 1: Import necessary libraries\n",
    "import math  # For sin, exp, radians\n",
    "\n",
    "print(\"Libraries loaded successfully!\")"
   ]
  },
  {
   "cell_type": "code",
   "execution_count": null,
   "id": "a15496b5",
   "metadata": {},
   "outputs": [
    {
     "name": "stdout",
     "output_type": "stream",
     "text": [
      "Coefficient tables loaded:\n",
      "Vertical keys: [1.0, 1.5, 2.0, 2.5, 3.0, 3.5, 4.0]\n",
      "Horizontal keys: [1.0, 1.5, 2.0, 2.5, 3.0, 3.5, 4.0]\n"
     ]
    }
   ],
   "source": [
    "# Cell 2: Table 2.1 - a and b coefficients for rain attenuation model\n",
    "# Vertical polarization (v) - from table 2.1\n",
    "coeff_v = {\n",
    "    1.0: {'a': 0.0000308, 'b': .8592},\n",
    "    1.5: {'a': 0.000574, 'b': .8957},\n",
    "    2.0: {'a': 0.000998, 'b': .9490},\n",
    "    2.5: {'a': 0.0001464, 'b': 1.0085},\n",
    "    3.0: {'a': 0.0001942, 'b': 1.0688},\n",
    "    3.5: {'a': 0.0002346, 'b': 1.1387},\n",
    "    4.0: {'a': 0.0002461, 'b': 1.2476}\n",
    "}\n",
    "\n",
    "# Horizontal polarization (h) - from table 2.1\n",
    "coeff_h = {\n",
    "    1.0: {'a': 0.0000259, 'b': 0.9691},\n",
    "    1.5: {'a': 0.0000443, 'b': 1.0185},\n",
    "    2.0: {'a': 0.0000847, 'b': 1.0664},\n",
    "    2.5: {'a': 0.0001321, 'b': 1.1209},\n",
    "    3.0: {'a': 0.0001390, 'b': 1.2322},\n",
    "    3.5: {'a': 0.0001155, 'b': 1.4189},\n",
    "    4.0: {'a': 0.0001071, 'b': 1.6009}\n",
    "}\n",
    "\n",
    "print(\"Coefficient tables loaded:\")\n",
    "print(\"Vertical keys:\", list(coeff_v.keys()))\n",
    "print(\"Horizontal keys:\", list(coeff_h.keys()))"
   ]
  },
  {
   "cell_type": "code",
   "execution_count": null,
   "id": "230791e3",
   "metadata": {},
   "outputs": [
    {
     "name": "stdout",
     "output_type": "stream",
     "text": [
      "Interpolated for f=2.25 GHz (vertical): a=0.000572, b=0.9788\n"
     ]
    }
   ],
   "source": [
    "# Cell 3: Interpolation fn for frequencies not in table 2.1\n",
    "\n",
    "def interpolate_coeff(f, coeff_dict):\n",
    "    \"\"\"\n",
    "    Linearly interpolate a and b coefficients for frequency f (GHz) \n",
    "    between nearest values \n",
    "    \"\"\"\n",
    "\n",
    "    frequencies = sorted(coeff_dict.keys()) #Sorts: [1,1.5,2,2.5,3,3.5,4\n",
    "    \n",
    "    if f < frequencies[0] or f > frequencies[-1]: #Checks if f is less than the first or greater than the last frequency then raises an error\n",
    "        raise ValueError(f\"Frequency {f} GHz is out of range\")\n",
    "\n",
    "    if f in coeff_dict: #If f is in the dictionary, return the exact a & b values\n",
    "        return coeff_dict[f]['a'], coeff_dict[f]['b'] \n",
    "\n",
    "    # Find the two frequencies that are the closest to f.\n",
    "    for i in range(len(frequencies) - 1): # minus 1 because we are comparing the current and next frequency. without it, we would be comparing the last frequency with itself\n",
    "        if frequencies[i] <= f <= frequencies[i + 1]: # checks if f is between the current and next frequency\n",
    "            low_f, high_f = frequencies[i], frequencies[i + 1] # sets the lower and higher frequencies\n",
    "            low_a, low_b = coeff_dict[low_f]['a'], coeff_dict[low_f]['b'] # sets the lower a & b values\n",
    "            high_a, high_b = coeff_dict[high_f]['a'], coeff_dict[high_f]['b'] # sets the higher a & b values    \n",
    "            \n",
    "            # Linear interpolation fraction\n",
    "            frac = (f - low_f) / (high_f - low_f)\n",
    "            \n",
    "            # Interpolate a and b\n",
    "            a = low_a + (high_a - low_a) * frac\n",
    "            b = low_b + (high_b - low_b) * frac\n",
    "            \n",
    "            return a, b\n",
    "    \n",
    "    # Fallback (shouldn't reach here)\n",
    "    return coeff_dict[f]['a'], coeff_dict[f]['b']\n",
    "\n",
    "# Test the interpolation function\n",
    "test_f = 2.25  # Between 2.0 and 2.5\n",
    "a_v, b_v = interpolate_coeff(test_f, coeff_v)\n",
    "print(f\"Interpolated for f={test_f} GHz (vertical): a={a_v:.6f}, b={b_v:.4f}\")"
   ]
  }
 ],
 "metadata": {
  "kernelspec": {
   "display_name": "dev",
   "language": "python",
   "name": "python3"
  },
  "language_info": {
   "codemirror_mode": {
    "name": "ipython",
    "version": 3
   },
   "file_extension": ".py",
   "mimetype": "text/x-python",
   "name": "python",
   "nbconvert_exporter": "python",
   "pygments_lexer": "ipython3",
   "version": "3.11.0"
  }
 },
 "nbformat": 4,
 "nbformat_minor": 5
}
