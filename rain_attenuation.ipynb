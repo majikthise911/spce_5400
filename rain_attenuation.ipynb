{
 "cells": [
  {
   "cell_type": "code",
   "execution_count": 13,
   "id": "6d5cb268",
   "metadata": {},
   "outputs": [
    {
     "name": "stdout",
     "output_type": "stream",
     "text": [
      "Libraries loaded successfully!\n"
     ]
    }
   ],
   "source": [
    "# Cell 1: Import necessary libraries\n",
    "import math  # For sin, exp, radians\n",
    "\n",
    "print(\"Libraries loaded successfully!\")"
   ]
  },
  {
   "cell_type": "code",
   "execution_count": 14,
   "id": "a15496b5",
   "metadata": {},
   "outputs": [
    {
     "name": "stdout",
     "output_type": "stream",
     "text": [
      "Coefficient tables loaded:\n",
      "Vertical keys: [1.0, 1.5, 2.0, 2.5, 3.0, 3.5, 4.0]\n",
      "Horizontal keys: [1.0, 1.5, 2.0, 2.5, 3.0, 3.5, 4.0]\n"
     ]
    }
   ],
   "source": [
    "# Cell 2: Table 2.1 - a and b coefficients for rain attenuation model\n",
    "# Vertical polarization (v) - from table 2.1\n",
    "coeff_v = {\n",
    "    1.0: {'a': 0.0000308, 'b': .8592},\n",
    "    1.5: {'a': 0.0000574, 'b': .8957},\n",
    "    2.0: {'a': 0.0000998, 'b': .9490},\n",
    "    2.5: {'a': 0.0001464, 'b': 1.0085},\n",
    "    3.0: {'a': 0.0001942, 'b': 1.0688},\n",
    "    3.5: {'a': 0.0002346, 'b': 1.1387},\n",
    "    4.0: {'a': 0.0002461, 'b': 1.2476}\n",
    "}\n",
    "\n",
    "# Horizontal polarization (h) - from table 2.1\n",
    "coeff_h = {\n",
    "    1.0: {'a': 0.0000259, 'b': 0.9691},\n",
    "    1.5: {'a': 0.0000443, 'b': 1.0185},\n",
    "    2.0: {'a': 0.0000847, 'b': 1.0664},\n",
    "    2.5: {'a': 0.0001321, 'b': 1.1209},\n",
    "    3.0: {'a': 0.0001390, 'b': 1.2322},\n",
    "    3.5: {'a': 0.0001155, 'b': 1.4189},\n",
    "    4.0: {'a': 0.0001071, 'b': 1.6009}\n",
    "}\n",
    "\n",
    "print(\"Coefficient tables loaded:\")\n",
    "print(\"Vertical keys:\", list(coeff_v.keys()))\n",
    "print(\"Horizontal keys:\", list(coeff_h.keys()))"
   ]
  },
  {
   "cell_type": "code",
   "execution_count": 15,
   "id": "230791e3",
   "metadata": {},
   "outputs": [
    {
     "name": "stdout",
     "output_type": "stream",
     "text": [
      "Interpolated for f=2.25 GHz (vertical): a=0.000123, b=0.9788\n"
     ]
    }
   ],
   "source": [
    "# Cell 3: Interpolation fn for frequencies not in table 2.1\n",
    "\n",
    "def interpolate_coeff(f, coeff_dict):\n",
    "    \"\"\"\n",
    "    Linearly interpolate a and b coefficients for frequency f (GHz) \n",
    "    between nearest values \n",
    "    \"\"\"\n",
    "\n",
    "    frequencies = sorted(coeff_dict.keys()) #Sorts: [1,1.5,2,2.5,3,3.5,4\n",
    "    \n",
    "    if f < frequencies[0] or f > frequencies[-1]: #Checks if f is less than the first or greater than the last frequency then raises an error\n",
    "        raise ValueError(f\"Frequency {f} GHz is out of range\")\n",
    "\n",
    "    if f in coeff_dict: #If f is in the dictionary, return the exact a & b values\n",
    "        return coeff_dict[f]['a'], coeff_dict[f]['b'] \n",
    "\n",
    "    # Find the two frequencies that are the closest to f.\n",
    "    for i in range(len(frequencies) - 1): # minus 1 because we are comparing the current and next frequency. without it, we would be comparing the last frequency with itself\n",
    "        if frequencies[i] <= f <= frequencies[i + 1]: # checks if f is between the current and next frequency\n",
    "            low_f, high_f = frequencies[i], frequencies[i + 1] # sets the lower and higher frequencies\n",
    "            low_a, low_b = coeff_dict[low_f]['a'], coeff_dict[low_f]['b'] # sets the lower a & b values\n",
    "            high_a, high_b = coeff_dict[high_f]['a'], coeff_dict[high_f]['b'] # sets the higher a & b values    \n",
    "            \n",
    "            # Linear interpolation fraction\n",
    "            frac = (f - low_f) / (high_f - low_f)\n",
    "            \n",
    "            # Interpolate a and b\n",
    "            a = low_a + (high_a - low_a) * frac\n",
    "            b = low_b + (high_b - low_b) * frac\n",
    "            \n",
    "            return a, b\n",
    "    \n",
    "    # Fallback (shouldn't reach here)\n",
    "    return coeff_dict[f]['a'], coeff_dict[f]['b']\n",
    "\n",
    "# Test the interpolation function\n",
    "test_f = 2.25  # Between 2.0 and 2.5\n",
    "a_v, b_v = interpolate_coeff(test_f, coeff_v)\n",
    "print(f\"Interpolated for f={test_f} GHz (vertical): a={a_v:.6f}, b={b_v:.4f}\")"
   ]
  },
  {
   "cell_type": "code",
   "execution_count": 16,
   "id": "bba4dc46",
   "metadata": {},
   "outputs": [
    {
     "name": "stdout",
     "output_type": "stream",
     "text": [
      "Locations loaded:\n",
      "Madrid: φ=40.4°, h_s=588 m\n",
      "Tirana: φ=41.3°, h_s=104 m\n",
      "Rome: φ=41.9°, h_s=14 m\n",
      "Pristina: φ=42.6°, h_s=652 m\n",
      "Zagreb: φ=45.8°, h_s=130 m\n",
      "Vienna: φ=48.2°, h_s=193 m\n",
      "Paris: φ=48.8°, h_s=34 m\n",
      "Brussels: φ=50.8°, h_s=76 m\n",
      "London: φ=51.5°, h_s=14 m\n",
      "Berlin: φ=52.5°, h_s=34 m\n"
     ]
    }
   ],
   "source": [
    "# Cell 4: locations dictionary from Table 2.5 - European city locations with latitude and altitude\n",
    "locations = {\n",
    "    'Madrid': {'phi': 40.4, 'hs_m': 588},\n",
    "    'Tirana': {'phi': 41.3, 'hs_m': 104},\n",
    "    'Rome': {'phi': 41.9, 'hs_m': 14},\n",
    "    'Pristina': {'phi': 42.6, 'hs_m': 652},\n",
    "    'Zagreb': {'phi': 45.8, 'hs_m': 130},\n",
    "    'Vienna': {'phi': 48.2, 'hs_m': 193},\n",
    "    'Paris': {'phi': 48.8, 'hs_m': 34},\n",
    "    'Brussels': {'phi': 50.8, 'hs_m': 76},\n",
    "    'London': {'phi': 51.5, 'hs_m': 14},\n",
    "    'Berlin': {'phi': 52.5, 'hs_m': 34}\n",
    "}\n",
    "\n",
    "print(\"Locations loaded:\")\n",
    "for city, data in locations.items(): # for city (new variable) and data (new variable) in locations.items() (the items in the locations dictionary)\n",
    "    print(f\"{city}: φ={data['phi']}°, h_s={data['hs_m']} m\") #print the city name, latitude, and altitude"
   ]
  },
  {
   "cell_type": "code",
   "execution_count": 17,
   "id": "4b27dfd2",
   "metadata": {},
   "outputs": [
    {
     "name": "stdout",
     "output_type": "stream",
     "text": [
      "Test results for Vienna:\n",
      "{'gamma': 0.002517205152366363, 'h_r': 3.1604, 'l_r': 5.934800000000001, 's': 0.8826390294247574, 'A_R': 0.013185840790267767}\n"
     ]
    }
   ],
   "source": [
    "# Cell 5: Core function to calculate rain attenuation (follows Figure 2.4 flowchart)\n",
    "def calculate_rain_attenuation(f, pol, R, phi, hs_km, epsilon0):\n",
    "    # Step 1: Get a and b using interpolation\n",
    "    if pol == 'v':\n",
    "        coeff_dict = coeff_v\n",
    "    elif pol == 'h':\n",
    "        coeff_dict = coeff_h\n",
    "    else:\n",
    "        raise ValueError(\"Polarization must be 'h' or 'v'\")\n",
    "    \n",
    "    a, b = interpolate_coeff(f, coeff_dict)\n",
    "    \n",
    "    # Step 2: Calculate specific attenuation gamma\n",
    "    gamma = a * (R ** b)\n",
    "    \n",
    "    # Step 3: Decision for h_r (effective rain height in km)\n",
    "    if phi > 23:\n",
    "        h_r = 5 - 0.073 * (phi - 23)\n",
    "    else:\n",
    "        h_r = 5\n",
    "    \n",
    "    # Step 4: Calculate slant path length l_r\n",
    "    epsilon0_rad = math.radians(epsilon0)  # Convert degrees to radians\n",
    "    if math.sin(epsilon0_rad) == 0:\n",
    "        raise ValueError(\"Elevation angle cannot be 0 (division by zero)\")\n",
    "    l_r = (h_r - hs_km) / math.sin(epsilon0_rad)\n",
    "    \n",
    "    # Step 5: Calculate horizontal reduction factor s\n",
    "    exp_term = math.exp(-0.015 * R)\n",
    "    denominator = 35 * exp_term\n",
    "    s = 1 / (1 + (l_r * math.sin(epsilon0_rad)) / denominator)\n",
    "    \n",
    "    # Step 6: Calculate total attenuation A_R\n",
    "    A_R = gamma * s * l_r\n",
    "    \n",
    "    # Return results as dict (like Figure 2.5)\n",
    "    return {\n",
    "        'gamma': gamma,\n",
    "        'h_r': h_r,\n",
    "        'l_r': l_r,\n",
    "        's': s,\n",
    "        'A_R': A_R\n",
    "    }\n",
    "\n",
    "# Test with Vienna example from Figure 2.5 (f=2, pol='v', R=30, phi=48.2, hs_m=193, epsilon0=30)\n",
    "hs_km = 193 / 1000  # Convert m to km\n",
    "results = calculate_rain_attenuation(2, 'v', 30, 48.2, hs_km, 30)\n",
    "print(\"Test results for Vienna:\")\n",
    "print(results)"
   ]
  },
  {
   "cell_type": "code",
   "execution_count": 18,
   "id": "cd691d46",
   "metadata": {},
   "outputs": [
    {
     "name": "stdout",
     "output_type": "stream",
     "text": [
      "Matplotlib imported successfully!\n"
     ]
    }
   ],
   "source": [
    "# Cell 6: Import for plotting (Matplotlib)\n",
    "import matplotlib.pyplot as plt\n",
    "\n",
    "print(\"Matplotlib imported successfully!\")"
   ]
  },
  {
   "cell_type": "code",
   "execution_count": null,
   "id": "c090f5e1",
   "metadata": {},
   "outputs": [
    {
     "name": "stdout",
     "output_type": "stream",
     "text": [
      "\n",
      "Results for Madrid (f=2.5 GHz, pol=v, R=30.0 mm/h, ε0=14.0°):\n",
      "Specific Attenuation (γ): 0.00452 dB/km\n",
      "Reduction Factor (s): 0.8766\n",
      "Attenuation (A_R): 0.0515 dB\n"
     ]
    }
   ],
   "source": [
    "#COMMENTED OUT BC REPLACED WITH IPYWIDGETS\n",
    "# # Cell 7: Interactive user inputs and single location calculation (like Figure 2.5)\n",
    "# # Prompt for inputs with defaults from problems\n",
    "# f = float(input(\"Enter frequency f (GHz, default 2.5): \") or 2.5)\n",
    "# pol = input(\"Enter polarization ('h' or 'v', default 'v'): \") or 'v'\n",
    "# R = float(input(\"Enter rain rate R (mm/h, default 30): \") or 30)\n",
    "# epsilon0 = float(input(\"Enter elevation angle ε0 (degrees, default 15): \") or 15)\n",
    "# location = input(\"Enter location from Table 2.5 (e.g., 'Madrid', default 'Madrid'): \") or 'Madrid'\n",
    "\n",
    "# # Get phi and hs_km from locations dict\n",
    "# if location not in locations:\n",
    "#     raise ValueError(f\"Invalid location: {location}. Available: {list(locations.keys())}\")\n",
    "# phi = locations[location]['phi']\n",
    "# hs_m = locations[location]['hs_m']\n",
    "# hs_km = hs_m / 1000  # Convert to km\n",
    "\n",
    "# # Compute\n",
    "# results = calculate_rain_attenuation(f, pol, R, phi, hs_km, epsilon0)\n",
    "\n",
    "# # Display like Figure 2.5\n",
    "# print(f\"\\nResults for {location} (f={f} GHz, pol={pol}, R={R} mm/h, ε0={epsilon0}°):\")\n",
    "# print(f\"Specific Attenuation (γ): {results['gamma']:.5f} dB/km\")\n",
    "# print(f\"Reduction Factor (s): {results['s']:.4f}\")\n",
    "# print(f\"Attenuation (A_R): {results['A_R']:.4f} dB\")"
   ]
  },
  {
   "cell_type": "code",
   "execution_count": null,
   "id": "88a30036",
   "metadata": {},
   "outputs": [
    {
     "data": {
      "application/vnd.jupyter.widget-view+json": {
       "model_id": "66104ec0ad394cee8e993173218aace2",
       "version_major": 2,
       "version_minor": 0
      },
      "text/plain": [
       "VBox(children=(Dropdown(description='Location:', options=('Madrid', 'Tirana', 'Rome', 'Pristina', 'Zagreb', 'V…"
      ]
     },
     "metadata": {},
     "output_type": "display_data"
    }
   ],
   "source": [
    "# Cell 9: Interactive UI with widgets (like Figure 2.5 calculator)\n",
    "import ipywidgets as widgets\n",
    "from IPython.display import display, clear_output\n",
    "\n",
    "# Output area for results\n",
    "output = widgets.Output()\n",
    "\n",
    "# Widgets for inputs (with defaults from problems)\n",
    "location_dropdown = widgets.Dropdown(\n",
    "    options=list(locations.keys()),\n",
    "    value='Madrid',\n",
    "    description='Location:'\n",
    ")\n",
    "\n",
    "f_slider = widgets.FloatSlider(\n",
    "    value=2.5,\n",
    "    min=1.0,\n",
    "    max=4.0,\n",
    "    step=0.1,\n",
    "    description='Frequency (GHz):'\n",
    ")\n",
    "\n",
    "pol_radio = widgets.RadioButtons(\n",
    "    options=['h', 'v'],\n",
    "    value='v',\n",
    "    description='Polarization:'\n",
    ")\n",
    "\n",
    "r_slider = widgets.FloatSlider(\n",
    "    value=30,\n",
    "    min=0,\n",
    "    max=100,\n",
    "    step=1,\n",
    "    description='Rain Rate (mm/h):'\n",
    ")\n",
    "\n",
    "epsilon0_slider = widgets.FloatSlider(\n",
    "    value=15,\n",
    "    min=1,\n",
    "    max=90,\n",
    "    step=1,\n",
    "    description='Elevation (°):'\n",
    ")\n",
    "\n",
    "calculate_button = widgets.Button(description=\"Calculate\")\n",
    "\n",
    "# Function to handle button click\n",
    "def on_calculate_clicked(b):\n",
    "    with output:\n",
    "        clear_output(wait=True)\n",
    "        # Get values\n",
    "        location = location_dropdown.value\n",
    "        f = f_slider.value\n",
    "        pol = pol_radio.value\n",
    "        R = r_slider.value\n",
    "        epsilon0 = epsilon0_slider.value\n",
    "        \n",
    "        # Get phi and hs_km\n",
    "        phi = locations[location]['phi']\n",
    "        hs_km = locations[location]['hs_m'] / 1000\n",
    "        \n",
    "        # Compute single location\n",
    "        results = calculate_rain_attenuation(f, pol, R, phi, hs_km, epsilon0)\n",
    "        \n",
    "        # Display results (like Figure 2.5)\n",
    "        print(f\"Results for {location} (f={f} GHz, pol={pol}, R={R} mm/h, ε0={epsilon0}°):\")\n",
    "        print(f\"Specific Attenuation: {results['gamma']:.5f} dB/km\")\n",
    "        print(f\"Reduction Factor: {results['s']:.4f}\")\n",
    "        print(f\"Attenuation: {results['A_R']:.4f} dB\")\n",
    "        \n",
    "        # Now graph for all locations with these params\n",
    "        cities = []\n",
    "        a_r_values = []\n",
    "        for city, data in locations.items():\n",
    "            phi_loop = data['phi']\n",
    "            hs_km_loop = data['hs_m'] / 1000\n",
    "            results_loop = calculate_rain_attenuation(f, pol, R, phi_loop, hs_km_loop, epsilon0)\n",
    "            cities.append(city)\n",
    "            a_r_values.append(results_loop['A_R'])\n",
    "        \n",
    "        # Plot\n",
    "        plt.figure(figsize=(12, 6))\n",
    "        plt.bar(cities, a_r_values, color='skyblue')\n",
    "        plt.xlabel('Location')\n",
    "        plt.ylabel('Rain Attenuation A_R (dB)')\n",
    "        plt.title(f'Rain Attenuation Across Locations\\n(f={f} GHz, pol={pol}, R={R} mm/h, ε0={epsilon0}°)')\n",
    "        plt.xticks(rotation=45, ha='right')\n",
    "        plt.tight_layout()\n",
    "        plt.show()\n",
    "\n",
    "# Link button to function\n",
    "calculate_button.on_click(on_calculate_clicked)\n",
    "\n",
    "# Display UI\n",
    "display(widgets.VBox([\n",
    "    location_dropdown,\n",
    "    f_slider,\n",
    "    pol_radio,\n",
    "    r_slider,\n",
    "    epsilon0_slider,\n",
    "    calculate_button,\n",
    "    output\n",
    "]))"
   ]
  }
 ],
 "metadata": {
  "kernelspec": {
   "display_name": "dev",
   "language": "python",
   "name": "python3"
  },
  "language_info": {
   "codemirror_mode": {
    "name": "ipython",
    "version": 3
   },
   "file_extension": ".py",
   "mimetype": "text/x-python",
   "name": "python",
   "nbconvert_exporter": "python",
   "pygments_lexer": "ipython3",
   "version": "3.11.0"
  }
 },
 "nbformat": 4,
 "nbformat_minor": 5
}
